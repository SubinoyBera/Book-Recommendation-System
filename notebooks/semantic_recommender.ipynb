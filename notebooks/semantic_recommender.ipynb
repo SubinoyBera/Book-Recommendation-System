{
 "cells": [
  {
   "cell_type": "code",
   "execution_count": null,
   "id": "ca12bf84",
   "metadata": {},
   "outputs": [],
   "source": [
    "import kagglehub"
   ]
  },
  {
   "cell_type": "code",
   "execution_count": null,
   "id": "d3713945",
   "metadata": {},
   "outputs": [],
   "source": [
    "data_path = kagglehub.dataset_download(\"dylanjcastillo/7k-books-with-metadata\")\n",
    "print(f\"Data downloaded to: {data_path}\")"
   ]
  },
  {
   "cell_type": "code",
   "execution_count": 4,
   "id": "24771ec0",
   "metadata": {},
   "outputs": [],
   "source": [
    "import warnings\n",
    "warnings.filterwarnings(\"ignore\")\n",
    "import numpy as np\n",
    "import pandas as pd"
   ]
  },
  {
   "cell_type": "code",
   "execution_count": 5,
   "id": "66f0f0f3",
   "metadata": {},
   "outputs": [
    {
     "data": {
      "text/html": [
       "<div>\n",
       "<style scoped>\n",
       "    .dataframe tbody tr th:only-of-type {\n",
       "        vertical-align: middle;\n",
       "    }\n",
       "\n",
       "    .dataframe tbody tr th {\n",
       "        vertical-align: top;\n",
       "    }\n",
       "\n",
       "    .dataframe thead th {\n",
       "        text-align: right;\n",
       "    }\n",
       "</style>\n",
       "<table border=\"1\" class=\"dataframe\">\n",
       "  <thead>\n",
       "    <tr style=\"text-align: right;\">\n",
       "      <th></th>\n",
       "      <th>isbn13</th>\n",
       "      <th>isbn10</th>\n",
       "      <th>title</th>\n",
       "      <th>subtitle</th>\n",
       "      <th>authors</th>\n",
       "      <th>categories</th>\n",
       "      <th>thumbnail</th>\n",
       "      <th>description</th>\n",
       "      <th>published_year</th>\n",
       "      <th>average_rating</th>\n",
       "      <th>num_pages</th>\n",
       "      <th>ratings_count</th>\n",
       "    </tr>\n",
       "  </thead>\n",
       "  <tbody>\n",
       "    <tr>\n",
       "      <th>0</th>\n",
       "      <td>9780002005883</td>\n",
       "      <td>0002005883</td>\n",
       "      <td>Gilead</td>\n",
       "      <td>NaN</td>\n",
       "      <td>Marilynne Robinson</td>\n",
       "      <td>Fiction</td>\n",
       "      <td>http://books.google.com/books/content?id=KQZCP...</td>\n",
       "      <td>A NOVEL THAT READERS and critics have been eag...</td>\n",
       "      <td>2004.0</td>\n",
       "      <td>3.85</td>\n",
       "      <td>247.0</td>\n",
       "      <td>361.0</td>\n",
       "    </tr>\n",
       "    <tr>\n",
       "      <th>1</th>\n",
       "      <td>9780002261982</td>\n",
       "      <td>0002261987</td>\n",
       "      <td>Spider's Web</td>\n",
       "      <td>A Novel</td>\n",
       "      <td>Charles Osborne;Agatha Christie</td>\n",
       "      <td>Detective and mystery stories</td>\n",
       "      <td>http://books.google.com/books/content?id=gA5GP...</td>\n",
       "      <td>A new 'Christie for Christmas' -- a full-lengt...</td>\n",
       "      <td>2000.0</td>\n",
       "      <td>3.83</td>\n",
       "      <td>241.0</td>\n",
       "      <td>5164.0</td>\n",
       "    </tr>\n",
       "    <tr>\n",
       "      <th>2</th>\n",
       "      <td>9780006163831</td>\n",
       "      <td>0006163831</td>\n",
       "      <td>The One Tree</td>\n",
       "      <td>NaN</td>\n",
       "      <td>Stephen R. Donaldson</td>\n",
       "      <td>American fiction</td>\n",
       "      <td>http://books.google.com/books/content?id=OmQaw...</td>\n",
       "      <td>Volume Two of Stephen Donaldson's acclaimed se...</td>\n",
       "      <td>1982.0</td>\n",
       "      <td>3.97</td>\n",
       "      <td>479.0</td>\n",
       "      <td>172.0</td>\n",
       "    </tr>\n",
       "  </tbody>\n",
       "</table>\n",
       "</div>"
      ],
      "text/plain": [
       "          isbn13      isbn10         title subtitle  \\\n",
       "0  9780002005883  0002005883        Gilead      NaN   \n",
       "1  9780002261982  0002261987  Spider's Web  A Novel   \n",
       "2  9780006163831  0006163831  The One Tree      NaN   \n",
       "\n",
       "                           authors                     categories  \\\n",
       "0               Marilynne Robinson                        Fiction   \n",
       "1  Charles Osborne;Agatha Christie  Detective and mystery stories   \n",
       "2             Stephen R. Donaldson               American fiction   \n",
       "\n",
       "                                           thumbnail  \\\n",
       "0  http://books.google.com/books/content?id=KQZCP...   \n",
       "1  http://books.google.com/books/content?id=gA5GP...   \n",
       "2  http://books.google.com/books/content?id=OmQaw...   \n",
       "\n",
       "                                         description  published_year  \\\n",
       "0  A NOVEL THAT READERS and critics have been eag...          2004.0   \n",
       "1  A new 'Christie for Christmas' -- a full-lengt...          2000.0   \n",
       "2  Volume Two of Stephen Donaldson's acclaimed se...          1982.0   \n",
       "\n",
       "   average_rating  num_pages  ratings_count  \n",
       "0            3.85      247.0          361.0  \n",
       "1            3.83      241.0         5164.0  \n",
       "2            3.97      479.0          172.0  "
      ]
     },
     "execution_count": 5,
     "metadata": {},
     "output_type": "execute_result"
    }
   ],
   "source": [
    "df = pd.read_csv(f\"{data_path}//books.csv\")\n",
    "df.head(3)"
   ]
  },
  {
   "cell_type": "code",
   "execution_count": 6,
   "id": "43904f45",
   "metadata": {},
   "outputs": [
    {
     "data": {
      "text/plain": [
       "(6810, 12)"
      ]
     },
     "execution_count": 6,
     "metadata": {},
     "output_type": "execute_result"
    }
   ],
   "source": [
    "df.shape"
   ]
  },
  {
   "cell_type": "markdown",
   "id": "f557a891",
   "metadata": {},
   "source": [
    "## Data Exploration and Preprocessing"
   ]
  },
  {
   "cell_type": "code",
   "execution_count": 7,
   "id": "909d09c5",
   "metadata": {},
   "outputs": [
    {
     "data": {
      "text/plain": [
       "isbn13               0\n",
       "isbn10               0\n",
       "title                0\n",
       "subtitle          4429\n",
       "authors             72\n",
       "categories          99\n",
       "thumbnail          329\n",
       "description        262\n",
       "published_year       6\n",
       "average_rating      43\n",
       "num_pages           43\n",
       "ratings_count       43\n",
       "dtype: int64"
      ]
     },
     "execution_count": 7,
     "metadata": {},
     "output_type": "execute_result"
    }
   ],
   "source": [
    "df.isnull().sum()"
   ]
  },
  {
   "cell_type": "code",
   "execution_count": 8,
   "id": "314349d5",
   "metadata": {},
   "outputs": [],
   "source": [
    "import seaborn as sns\n",
    "import matplotlib.pyplot as plt"
   ]
  },
  {
   "cell_type": "code",
   "execution_count": 9,
   "id": "e5da20f7",
   "metadata": {},
   "outputs": [
    {
     "data": {
      "image/png": "[encoded data removed]",
      "text/plain": [
       "<Figure size 640x480 with 1 Axes>"
      ]
     },
     "metadata": {},
     "output_type": "display_data"
    }
   ],
   "source": [
    "ax = plt.axes()\n",
    "sns.heatmap(df.isna().transpose(), cbar=False, ax=ax)\n",
    "\n",
    "plt.xlabel(\"Columns\")\n",
    "plt.ylabel(\"Missing Values\")\n",
    "plt.show()"
   ]
  },
  {
   "cell_type": "code",
   "execution_count": 10,
   "id": "8e9629ed",
   "metadata": {},
   "outputs": [],
   "source": [
    "df[\"missing_description\"] = np.where(df[\"description\"].isnull(),1,0)\n",
    "df[\"book_age\"] = 2025 - df[\"published_year\"]"
   ]
  },
  {
   "cell_type": "code",
   "execution_count": 11,
   "id": "c02e1f61",
   "metadata": {},
   "outputs": [
    {
     "data": {
      "image/png": "[encoded data removed]",
      "text/plain": [
       "<Figure size 800x500 with 2 Axes>"
      ]
     },
     "metadata": {},
     "output_type": "display_data"
    }
   ],
   "source": [
    "# Checking if missing description has any correlation with \"book age\" - recent new books may have not been read so description is missing or \"no. of pages\" - very short book may lack description, etc..\n",
    "col_interested = [\"missing_description\", \"book_age\", \"num_pages\", \"average_rating\"]\n",
    "\n",
    "correlation_matrix = df[col_interested].corr(method = \"spearman\")\n",
    "\n",
    "sns.set_theme(style = \"darkgrid\")\n",
    "plt.figure(figsize = (8,5))\n",
    "heatmap = sns.heatmap(correlation_matrix, annot=True, fmt = \".2f\", cmap = \"coolwarm\",\n",
    "                      cbar_kws={\"label\" : \"Spearman Correlation\"})\n",
    "heatmap.set_title(\"Correlation heatmap\")\n",
    "plt.show()"
   ]
  },
  {
   "cell_type": "code",
   "execution_count": 12,
   "id": "702462fb",
   "metadata": {},
   "outputs": [],
   "source": [
    "# Books dataframe with no missing values in [\"description\", \"num_pages\", \"average_rating\", \"published_year\"]\n",
    "books = df[-(df[\"description\"].isna()) &\n",
    "                  -(df[\"num_pages\"].isna()) &\n",
    "                  -(df[\"average_rating\"].isna()) &\n",
    "                  -(df[\"published_year\"].isna())\n",
    "                ]"
   ]
  },
  {
   "cell_type": "code",
   "execution_count": 13,
   "id": "73b82116",
   "metadata": {},
   "outputs": [
    {
     "data": {
      "text/plain": [
       "(6507, 14)"
      ]
     },
     "execution_count": 13,
     "metadata": {},
     "output_type": "execute_result"
    }
   ],
   "source": [
    "books.shape"
   ]
  },
  {
   "cell_type": "code",
   "execution_count": 14,
   "id": "3cdcad91",
   "metadata": {},
   "outputs": [
    {
     "data": {
      "text/plain": [
       "isbn13                    0\n",
       "isbn10                    0\n",
       "title                     0\n",
       "subtitle               4226\n",
       "authors                  63\n",
       "categories               33\n",
       "thumbnail               214\n",
       "description               0\n",
       "published_year            0\n",
       "average_rating            0\n",
       "num_pages                 0\n",
       "ratings_count             0\n",
       "missing_description       0\n",
       "book_age                  0\n",
       "dtype: int64"
      ]
     },
     "execution_count": 14,
     "metadata": {},
     "output_type": "execute_result"
    }
   ],
   "source": [
    "books.isnull().sum()"
   ]
  },
  {
   "cell_type": "code",
   "execution_count": 15,
   "id": "b19efc00",
   "metadata": {},
   "outputs": [
    {
     "data": {
      "text/html": [
       "<div>\n",
       "<style scoped>\n",
       "    .dataframe tbody tr th:only-of-type {\n",
       "        vertical-align: middle;\n",
       "    }\n",
       "\n",
       "    .dataframe tbody tr th {\n",
       "        vertical-align: top;\n",
       "    }\n",
       "\n",
       "    .dataframe thead th {\n",
       "        text-align: right;\n",
       "    }\n",
       "</style>\n",
       "<table border=\"1\" class=\"dataframe\">\n",
       "  <thead>\n",
       "    <tr style=\"text-align: right;\">\n",
       "      <th></th>\n",
       "      <th>categories</th>\n",
       "      <th>count</th>\n",
       "    </tr>\n",
       "  </thead>\n",
       "  <tbody>\n",
       "    <tr>\n",
       "      <th>0</th>\n",
       "      <td>Fiction</td>\n",
       "      <td>2523</td>\n",
       "    </tr>\n",
       "    <tr>\n",
       "      <th>1</th>\n",
       "      <td>Juvenile Fiction</td>\n",
       "      <td>534</td>\n",
       "    </tr>\n",
       "    <tr>\n",
       "      <th>2</th>\n",
       "      <td>Biography &amp; Autobiography</td>\n",
       "      <td>391</td>\n",
       "    </tr>\n",
       "    <tr>\n",
       "      <th>3</th>\n",
       "      <td>History</td>\n",
       "      <td>258</td>\n",
       "    </tr>\n",
       "    <tr>\n",
       "      <th>4</th>\n",
       "      <td>Literary Criticism</td>\n",
       "      <td>164</td>\n",
       "    </tr>\n",
       "    <tr>\n",
       "      <th>...</th>\n",
       "      <td>...</td>\n",
       "      <td>...</td>\n",
       "    </tr>\n",
       "    <tr>\n",
       "      <th>280</th>\n",
       "      <td>Butlers</td>\n",
       "      <td>1</td>\n",
       "    </tr>\n",
       "    <tr>\n",
       "      <th>279</th>\n",
       "      <td>Gardens</td>\n",
       "      <td>1</td>\n",
       "    </tr>\n",
       "    <tr>\n",
       "      <th>278</th>\n",
       "      <td>Assassins</td>\n",
       "      <td>1</td>\n",
       "    </tr>\n",
       "    <tr>\n",
       "      <th>277</th>\n",
       "      <td>Married people</td>\n",
       "      <td>1</td>\n",
       "    </tr>\n",
       "    <tr>\n",
       "      <th>530</th>\n",
       "      <td>Indic fiction (English)</td>\n",
       "      <td>1</td>\n",
       "    </tr>\n",
       "  </tbody>\n",
       "</table>\n",
       "<p>531 rows × 2 columns</p>\n",
       "</div>"
      ],
      "text/plain": [
       "                    categories  count\n",
       "0                      Fiction   2523\n",
       "1             Juvenile Fiction    534\n",
       "2    Biography & Autobiography    391\n",
       "3                      History    258\n",
       "4           Literary Criticism    164\n",
       "..                         ...    ...\n",
       "280                    Butlers      1\n",
       "279                    Gardens      1\n",
       "278                  Assassins      1\n",
       "277             Married people      1\n",
       "530    Indic fiction (English)      1\n",
       "\n",
       "[531 rows x 2 columns]"
      ]
     },
     "execution_count": 15,
     "metadata": {},
     "output_type": "execute_result"
    }
   ],
   "source": [
    "# Check books categories\n",
    "books[\"categories\"].value_counts().reset_index().sort_values(\"count\", ascending=False)"
   ]
  },
  {
   "cell_type": "code",
   "execution_count": 16,
   "id": "82900d1f",
   "metadata": {},
   "outputs": [
    {
     "data": {
      "image/png": "[encoded data removed]",
      "text/plain": [
       "<Figure size 1300x700 with 1 Axes>"
      ]
     },
     "metadata": {},
     "output_type": "display_data"
    }
   ],
   "source": [
    "books[\"categories\"].value_counts().plot(kind=\"pie\", figsize=(13,7))\n",
    "plt.title(\"Book Categories Distribution\")\n",
    "plt.show()"
   ]
  },
  {
   "cell_type": "markdown",
   "id": "154c4418",
   "metadata": {},
   "source": [
    "###### There are a lot too many categeories, we do need handle this. But for now we skip this. "
   ]
  },
  {
   "cell_type": "code",
   "execution_count": 17,
   "id": "249bd426",
   "metadata": {},
   "outputs": [
    {
     "data": {
      "text/html": [
       "<div>\n",
       "<style scoped>\n",
       "    .dataframe tbody tr th:only-of-type {\n",
       "        vertical-align: middle;\n",
       "    }\n",
       "\n",
       "    .dataframe tbody tr th {\n",
       "        vertical-align: top;\n",
       "    }\n",
       "\n",
       "    .dataframe thead th {\n",
       "        text-align: right;\n",
       "    }\n",
       "</style>\n",
       "<table border=\"1\" class=\"dataframe\">\n",
       "  <thead>\n",
       "    <tr style=\"text-align: right;\">\n",
       "      <th></th>\n",
       "      <th>isbn13</th>\n",
       "      <th>isbn10</th>\n",
       "      <th>title</th>\n",
       "      <th>subtitle</th>\n",
       "      <th>authors</th>\n",
       "      <th>categories</th>\n",
       "      <th>thumbnail</th>\n",
       "      <th>description</th>\n",
       "      <th>published_year</th>\n",
       "      <th>average_rating</th>\n",
       "      <th>num_pages</th>\n",
       "      <th>ratings_count</th>\n",
       "      <th>missing_description</th>\n",
       "      <th>book_age</th>\n",
       "      <th>description_words</th>\n",
       "    </tr>\n",
       "  </thead>\n",
       "  <tbody>\n",
       "    <tr>\n",
       "      <th>0</th>\n",
       "      <td>9780002005883</td>\n",
       "      <td>0002005883</td>\n",
       "      <td>Gilead</td>\n",
       "      <td>NaN</td>\n",
       "      <td>Marilynne Robinson</td>\n",
       "      <td>Fiction</td>\n",
       "      <td>http://books.google.com/books/content?id=KQZCP...</td>\n",
       "      <td>A NOVEL THAT READERS and critics have been eag...</td>\n",
       "      <td>2004.0</td>\n",
       "      <td>3.85</td>\n",
       "      <td>247.0</td>\n",
       "      <td>361.0</td>\n",
       "      <td>0</td>\n",
       "      <td>21.0</td>\n",
       "      <td>199</td>\n",
       "    </tr>\n",
       "    <tr>\n",
       "      <th>1</th>\n",
       "      <td>9780002261982</td>\n",
       "      <td>0002261987</td>\n",
       "      <td>Spider's Web</td>\n",
       "      <td>A Novel</td>\n",
       "      <td>Charles Osborne;Agatha Christie</td>\n",
       "      <td>Detective and mystery stories</td>\n",
       "      <td>http://books.google.com/books/content?id=gA5GP...</td>\n",
       "      <td>A new 'Christie for Christmas' -- a full-lengt...</td>\n",
       "      <td>2000.0</td>\n",
       "      <td>3.83</td>\n",
       "      <td>241.0</td>\n",
       "      <td>5164.0</td>\n",
       "      <td>0</td>\n",
       "      <td>25.0</td>\n",
       "      <td>205</td>\n",
       "    </tr>\n",
       "    <tr>\n",
       "      <th>2</th>\n",
       "      <td>9780006163831</td>\n",
       "      <td>0006163831</td>\n",
       "      <td>The One Tree</td>\n",
       "      <td>NaN</td>\n",
       "      <td>Stephen R. Donaldson</td>\n",
       "      <td>American fiction</td>\n",
       "      <td>http://books.google.com/books/content?id=OmQaw...</td>\n",
       "      <td>Volume Two of Stephen Donaldson's acclaimed se...</td>\n",
       "      <td>1982.0</td>\n",
       "      <td>3.97</td>\n",
       "      <td>479.0</td>\n",
       "      <td>172.0</td>\n",
       "      <td>0</td>\n",
       "      <td>43.0</td>\n",
       "      <td>14</td>\n",
       "    </tr>\n",
       "  </tbody>\n",
       "</table>\n",
       "</div>"
      ],
      "text/plain": [
       "          isbn13      isbn10         title subtitle  \\\n",
       "0  9780002005883  0002005883        Gilead      NaN   \n",
       "1  9780002261982  0002261987  Spider's Web  A Novel   \n",
       "2  9780006163831  0006163831  The One Tree      NaN   \n",
       "\n",
       "                           authors                     categories  \\\n",
       "0               Marilynne Robinson                        Fiction   \n",
       "1  Charles Osborne;Agatha Christie  Detective and mystery stories   \n",
       "2             Stephen R. Donaldson               American fiction   \n",
       "\n",
       "                                           thumbnail  \\\n",
       "0  http://books.google.com/books/content?id=KQZCP...   \n",
       "1  http://books.google.com/books/content?id=gA5GP...   \n",
       "2  http://books.google.com/books/content?id=OmQaw...   \n",
       "\n",
       "                                         description  published_year  \\\n",
       "0  A NOVEL THAT READERS and critics have been eag...          2004.0   \n",
       "1  A new 'Christie for Christmas' -- a full-lengt...          2000.0   \n",
       "2  Volume Two of Stephen Donaldson's acclaimed se...          1982.0   \n",
       "\n",
       "   average_rating  num_pages  ratings_count  missing_description  book_age  \\\n",
       "0            3.85      247.0          361.0                    0      21.0   \n",
       "1            3.83      241.0         5164.0                    0      25.0   \n",
       "2            3.97      479.0          172.0                    0      43.0   \n",
       "\n",
       "   description_words  \n",
       "0                199  \n",
       "1                205  \n",
       "2                 14  "
      ]
     },
     "execution_count": 17,
     "metadata": {},
     "output_type": "execute_result"
    }
   ],
   "source": [
    "# Get no. of words present in the description of each book\n",
    "books[\"description_words\"] = books[\"description\"].str.split().str.len()\n",
    "books.head(3)"
   ]
  },
  {
   "cell_type": "code",
   "execution_count": 18,
   "id": "2636b6c4",
   "metadata": {},
   "outputs": [
    {
     "data": {
      "text/plain": [
       "6                                               Donation.\n",
       "11                                         Fantasy-roman.\n",
       "77                         Nonsense rhyming story. 4 yrs+\n",
       "104                        Library of Liberal Arts title.\n",
       "241     Originally published: [New York]: Clarion Book...\n",
       "                              ...                        \n",
       "6721                                              Horror.\n",
       "6726       Presents two complete novels from Henry James.\n",
       "6757                          Audio Book- unabriged on CD\n",
       "6794                                 源氏物語54帖、「宮田切り絵」の真骨頂。\n",
       "6795    Book Of Five Rings is a Kodansha International...\n",
       "Name: description, Length: 157, dtype: object"
      ]
     },
     "execution_count": 18,
     "metadata": {},
     "output_type": "execute_result"
    }
   ],
   "source": [
    "books.loc[books[\"description_words\"].between(1, 10), \"description\"]"
   ]
  },
  {
   "cell_type": "code",
   "execution_count": 19,
   "id": "f9202de1",
   "metadata": {},
   "outputs": [
    {
     "data": {
      "text/plain": [
       "2       Volume Two of Stephen Donaldson's acclaimed se...\n",
       "10      One of Sidney Sheldon's most popular and bests...\n",
       "32      Tells the story of three generations of Chines...\n",
       "38      Koko is Peter Straub's foray into the psycholo...\n",
       "70      A matter of life and death - and the Throne of...\n",
       "                              ...                        \n",
       "6759    Scott Pilgrim's fantastic life takes an unfors...\n",
       "6767    Everything from the fingerprints of the gods t...\n",
       "6776    Raymond Chandler meets The Exorcist. Classic n...\n",
       "6783    Basics Illustration 01: Thinking Visually expl...\n",
       "6809    This is a jubilant and rewarding collection of...\n",
       "Name: description, Length: 779, dtype: object"
      ]
     },
     "execution_count": 19,
     "metadata": {},
     "output_type": "execute_result"
    }
   ],
   "source": [
    "books.loc[books[\"description_words\"].between(10, 20), \"description\"]"
   ]
  },
  {
   "cell_type": "code",
   "execution_count": 20,
   "id": "282ba94a",
   "metadata": {},
   "outputs": [
    {
     "data": {
      "text/plain": [
       "\"Forty-nine stories reflect much of the intensity of Hemingway's own life and environment\""
      ]
     },
     "execution_count": 20,
     "metadata": {},
     "output_type": "execute_result"
    }
   ],
   "source": [
    "books[\"description\"].loc[100]"
   ]
  },
  {
   "cell_type": "code",
   "execution_count": 21,
   "id": "1c0687ca",
   "metadata": {},
   "outputs": [
    {
     "data": {
      "text/plain": [
       "'Nineteen writers dig into the spaces between genres and bring up gems of new fiction.'"
      ]
     },
     "execution_count": 21,
     "metadata": {},
     "output_type": "execute_result"
    }
   ],
   "source": [
    "books[\"description\"].loc[6730]"
   ]
  },
  {
   "cell_type": "code",
   "execution_count": 22,
   "id": "caa3a4b0",
   "metadata": {},
   "outputs": [
    {
     "data": {
      "text/plain": [
       "9       Kate Blackwell is an enigma and one of the mos...\n",
       "14      Available in the U.S. for the first time, this...\n",
       "21      Reissue of the author's most famous and well-l...\n",
       "36      A magical and fantastic collection of early st...\n",
       "46      No one believes a little girl when she insists...\n",
       "                              ...                        \n",
       "6766    Discusses the historical and intellectual back...\n",
       "6779    Edited by the creator and executive producer o...\n",
       "6782    Displays one of America's leading physicist's ...\n",
       "6789    Provides an introduction to the American artis...\n",
       "6809    This is a jubilant and rewarding collection of...\n",
       "Name: description, Length: 1200, dtype: object"
      ]
     },
     "execution_count": 22,
     "metadata": {},
     "output_type": "execute_result"
    }
   ],
   "source": [
    "books.loc[books[\"description_words\"].between(20, 30), \"description\"]"
   ]
  },
  {
   "cell_type": "code",
   "execution_count": 23,
   "id": "5e7a9788",
   "metadata": {},
   "outputs": [
    {
     "name": "stdout",
     "output_type": "stream",
     "text": [
      "Cross Damon, trapped within his own blackness, flees from Chicago's South Side to Harlem, where he joins the Communist Party.\n"
     ]
    },
    {
     "data": {
      "text/plain": [
       "20"
      ]
     },
     "execution_count": 23,
     "metadata": {},
     "output_type": "execute_result"
    }
   ],
   "source": [
    "desc = books[\"description\"].loc[171]\n",
    "print(desc)\n",
    "len(desc.split())"
   ]
  },
  {
   "cell_type": "code",
   "execution_count": 24,
   "id": "4cc23e04",
   "metadata": {},
   "outputs": [
    {
     "name": "stdout",
     "output_type": "stream",
     "text": [
      "Presents a collection of articles that examine various aspects of the war on drugs, including its political, historical, and economic aspects.\n"
     ]
    },
    {
     "data": {
      "text/plain": [
       "21"
      ]
     },
     "execution_count": 24,
     "metadata": {},
     "output_type": "execute_result"
    }
   ],
   "source": [
    "desc = books[\"description\"].loc[6765]\n",
    "print(desc)\n",
    "len(desc.split())"
   ]
  },
  {
   "cell_type": "code",
   "execution_count": 25,
   "id": "1fb3cd70",
   "metadata": {},
   "outputs": [
    {
     "name": "stdout",
     "output_type": "stream",
     "text": [
      "Provides an introduction to the American artist's work, presenting examples of his works with a discussion of their historical background and critical interpretation.\n"
     ]
    },
    {
     "data": {
      "text/plain": [
       "23"
      ]
     },
     "execution_count": 25,
     "metadata": {},
     "output_type": "execute_result"
    }
   ],
   "source": [
    "desc = books[\"description\"].loc[6789]\n",
    "print(desc)\n",
    "len(desc.split())"
   ]
  },
  {
   "cell_type": "code",
   "execution_count": 26,
   "id": "7c68225c",
   "metadata": {},
   "outputs": [
    {
     "data": {
      "text/plain": [
       "9       Kate Blackwell is an enigma and one of the mos...\n",
       "20      It is 1937, and Charles Ashworth, a Canon to t...\n",
       "21      Reissue of the author's most famous and well-l...\n",
       "39      \"The two works 'On fairy-stories' and 'Leaf by...\n",
       "46      No one believes a little girl when she insists...\n",
       "                              ...                        \n",
       "6768    Citing a harrowing lack of adequate shelter an...\n",
       "6775    Presents nearly one thousand recipes--from app...\n",
       "6779    Edited by the creator and executive producer o...\n",
       "6799    This book is the story of a young girl obsesse...\n",
       "6801    Forster's lively, informed originality and wit...\n",
       "Name: description, Length: 1462, dtype: object"
      ]
     },
     "execution_count": 26,
     "metadata": {},
     "output_type": "execute_result"
    }
   ],
   "source": [
    "books.loc[books[\"description_words\"].between(30, 40), \"description\"]"
   ]
  },
  {
   "cell_type": "code",
   "execution_count": 27,
   "id": "e87e57ab",
   "metadata": {},
   "outputs": [
    {
     "data": {
      "text/plain": [
       "5403"
      ]
     },
     "execution_count": 27,
     "metadata": {},
     "output_type": "execute_result"
    }
   ],
   "source": [
    "len(books.loc[books[\"description_words\"]>=23, \"description\"])"
   ]
  },
  {
   "cell_type": "code",
   "execution_count": 28,
   "id": "fa641478",
   "metadata": {},
   "outputs": [
    {
     "data": {
      "text/plain": [
       "5299"
      ]
     },
     "execution_count": 28,
     "metadata": {},
     "output_type": "execute_result"
    }
   ],
   "source": [
    "len(books.loc[books[\"description_words\"]>=24, \"description\"])"
   ]
  },
  {
   "cell_type": "code",
   "execution_count": null,
   "id": "f62a78d4",
   "metadata": {},
   "outputs": [
    {
     "data": {
      "text/plain": [
       "(5403, 15)"
      ]
     },
     "execution_count": 29,
     "metadata": {},
     "output_type": "execute_result"
    }
   ],
   "source": [
    "# Filter books with at least 23 words in the description\n",
    "books_final = books.loc[books[\"description_words\"]>=23]\n",
    "books_final.shape"
   ]
  },
  {
   "cell_type": "code",
   "execution_count": 30,
   "id": "4be6bcf6",
   "metadata": {},
   "outputs": [],
   "source": [
    "books_final[\"title_subtitle\"] = np.where(books_final[\"subtitle\"].isnull(), books_final[\"title\"],\n",
    "                                         books_final[[\"title\", \"subtitle\"]].astype(str).agg(\": \".join, axis=1))"
   ]
  },
  {
   "cell_type": "code",
   "execution_count": 31,
   "id": "f4d4cf0d",
   "metadata": {},
   "outputs": [
    {
     "data": {
      "text/html": [
       "<div>\n",
       "<style scoped>\n",
       "    .dataframe tbody tr th:only-of-type {\n",
       "        vertical-align: middle;\n",
       "    }\n",
       "\n",
       "    .dataframe tbody tr th {\n",
       "        vertical-align: top;\n",
       "    }\n",
       "\n",
       "    .dataframe thead th {\n",
       "        text-align: right;\n",
       "    }\n",
       "</style>\n",
       "<table border=\"1\" class=\"dataframe\">\n",
       "  <thead>\n",
       "    <tr style=\"text-align: right;\">\n",
       "      <th></th>\n",
       "      <th>isbn13</th>\n",
       "      <th>isbn10</th>\n",
       "      <th>title</th>\n",
       "      <th>subtitle</th>\n",
       "      <th>authors</th>\n",
       "      <th>categories</th>\n",
       "      <th>thumbnail</th>\n",
       "      <th>description</th>\n",
       "      <th>published_year</th>\n",
       "      <th>average_rating</th>\n",
       "      <th>num_pages</th>\n",
       "      <th>ratings_count</th>\n",
       "      <th>missing_description</th>\n",
       "      <th>book_age</th>\n",
       "      <th>description_words</th>\n",
       "      <th>title_subtitle</th>\n",
       "    </tr>\n",
       "  </thead>\n",
       "  <tbody>\n",
       "    <tr>\n",
       "      <th>0</th>\n",
       "      <td>9780002005883</td>\n",
       "      <td>0002005883</td>\n",
       "      <td>Gilead</td>\n",
       "      <td>NaN</td>\n",
       "      <td>Marilynne Robinson</td>\n",
       "      <td>Fiction</td>\n",
       "      <td>http://books.google.com/books/content?id=KQZCP...</td>\n",
       "      <td>A NOVEL THAT READERS and critics have been eag...</td>\n",
       "      <td>2004.0</td>\n",
       "      <td>3.85</td>\n",
       "      <td>247.0</td>\n",
       "      <td>361.0</td>\n",
       "      <td>0</td>\n",
       "      <td>21.0</td>\n",
       "      <td>199</td>\n",
       "      <td>Gilead</td>\n",
       "    </tr>\n",
       "    <tr>\n",
       "      <th>1</th>\n",
       "      <td>9780002261982</td>\n",
       "      <td>0002261987</td>\n",
       "      <td>Spider's Web</td>\n",
       "      <td>A Novel</td>\n",
       "      <td>Charles Osborne;Agatha Christie</td>\n",
       "      <td>Detective and mystery stories</td>\n",
       "      <td>http://books.google.com/books/content?id=gA5GP...</td>\n",
       "      <td>A new 'Christie for Christmas' -- a full-lengt...</td>\n",
       "      <td>2000.0</td>\n",
       "      <td>3.83</td>\n",
       "      <td>241.0</td>\n",
       "      <td>5164.0</td>\n",
       "      <td>0</td>\n",
       "      <td>25.0</td>\n",
       "      <td>205</td>\n",
       "      <td>Spider's Web: A Novel</td>\n",
       "    </tr>\n",
       "    <tr>\n",
       "      <th>3</th>\n",
       "      <td>9780006178736</td>\n",
       "      <td>0006178731</td>\n",
       "      <td>Rage of angels</td>\n",
       "      <td>NaN</td>\n",
       "      <td>Sidney Sheldon</td>\n",
       "      <td>Fiction</td>\n",
       "      <td>http://books.google.com/books/content?id=FKo2T...</td>\n",
       "      <td>A memorable, mesmerizing heroine Jennifer -- b...</td>\n",
       "      <td>1993.0</td>\n",
       "      <td>3.93</td>\n",
       "      <td>512.0</td>\n",
       "      <td>29532.0</td>\n",
       "      <td>0</td>\n",
       "      <td>32.0</td>\n",
       "      <td>57</td>\n",
       "      <td>Rage of angels</td>\n",
       "    </tr>\n",
       "  </tbody>\n",
       "</table>\n",
       "</div>"
      ],
      "text/plain": [
       "          isbn13      isbn10           title subtitle  \\\n",
       "0  9780002005883  0002005883          Gilead      NaN   \n",
       "1  9780002261982  0002261987    Spider's Web  A Novel   \n",
       "3  9780006178736  0006178731  Rage of angels      NaN   \n",
       "\n",
       "                           authors                     categories  \\\n",
       "0               Marilynne Robinson                        Fiction   \n",
       "1  Charles Osborne;Agatha Christie  Detective and mystery stories   \n",
       "3                   Sidney Sheldon                        Fiction   \n",
       "\n",
       "                                           thumbnail  \\\n",
       "0  http://books.google.com/books/content?id=KQZCP...   \n",
       "1  http://books.google.com/books/content?id=gA5GP...   \n",
       "3  http://books.google.com/books/content?id=FKo2T...   \n",
       "\n",
       "                                         description  published_year  \\\n",
       "0  A NOVEL THAT READERS and critics have been eag...          2004.0   \n",
       "1  A new 'Christie for Christmas' -- a full-lengt...          2000.0   \n",
       "3  A memorable, mesmerizing heroine Jennifer -- b...          1993.0   \n",
       "\n",
       "   average_rating  num_pages  ratings_count  missing_description  book_age  \\\n",
       "0            3.85      247.0          361.0                    0      21.0   \n",
       "1            3.83      241.0         5164.0                    0      25.0   \n",
       "3            3.93      512.0        29532.0                    0      32.0   \n",
       "\n",
       "   description_words         title_subtitle  \n",
       "0                199                 Gilead  \n",
       "1                205  Spider's Web: A Novel  \n",
       "3                 57         Rage of angels  "
      ]
     },
     "execution_count": 31,
     "metadata": {},
     "output_type": "execute_result"
    }
   ],
   "source": [
    "books_final.head(3)"
   ]
  },
  {
   "cell_type": "code",
   "execution_count": 32,
   "id": "70fc37c3",
   "metadata": {},
   "outputs": [],
   "source": [
    "books_final[\"tagged_description\"] = books_final[[\"isbn13\", \"description\"]].astype(str).agg(\": \".join, axis=1)"
   ]
  },
  {
   "cell_type": "code",
   "execution_count": 33,
   "id": "ba4cf43b",
   "metadata": {},
   "outputs": [],
   "source": [
    "books_final.drop([\"isbn10\", \"subtitle\", \"missing_description\", \"book_age\", \"description_words\"], axis=1, inplace=True)"
   ]
  },
  {
   "cell_type": "code",
   "execution_count": 34,
   "id": "4ec615d6",
   "metadata": {},
   "outputs": [
    {
     "data": {
      "text/plain": [
       "245"
      ]
     },
     "execution_count": 34,
     "metadata": {},
     "output_type": "execute_result"
    }
   ],
   "source": [
    "books_final[\"title\"].duplicated().sum()"
   ]
  },
  {
   "cell_type": "code",
   "execution_count": 35,
   "id": "0c3399b7",
   "metadata": {},
   "outputs": [
    {
     "data": {
      "text/plain": [
       "(5158, 12)"
      ]
     },
     "execution_count": 35,
     "metadata": {},
     "output_type": "execute_result"
    }
   ],
   "source": [
    "books_final.drop_duplicates(subset=[\"title\"], inplace=True)\n",
    "books_final.shape"
   ]
  },
  {
   "cell_type": "code",
   "execution_count": 36,
   "id": "675ed7bf",
   "metadata": {},
   "outputs": [
    {
     "data": {
      "text/html": [
       "<div>\n",
       "<style scoped>\n",
       "    .dataframe tbody tr th:only-of-type {\n",
       "        vertical-align: middle;\n",
       "    }\n",
       "\n",
       "    .dataframe tbody tr th {\n",
       "        vertical-align: top;\n",
       "    }\n",
       "\n",
       "    .dataframe thead th {\n",
       "        text-align: right;\n",
       "    }\n",
       "</style>\n",
       "<table border=\"1\" class=\"dataframe\">\n",
       "  <thead>\n",
       "    <tr style=\"text-align: right;\">\n",
       "      <th></th>\n",
       "      <th>isbn13</th>\n",
       "      <th>title</th>\n",
       "      <th>authors</th>\n",
       "      <th>categories</th>\n",
       "      <th>thumbnail</th>\n",
       "      <th>description</th>\n",
       "      <th>published_year</th>\n",
       "      <th>average_rating</th>\n",
       "      <th>num_pages</th>\n",
       "      <th>ratings_count</th>\n",
       "      <th>title_subtitle</th>\n",
       "      <th>tagged_description</th>\n",
       "    </tr>\n",
       "  </thead>\n",
       "  <tbody>\n",
       "    <tr>\n",
       "      <th>0</th>\n",
       "      <td>9780002005883</td>\n",
       "      <td>Gilead</td>\n",
       "      <td>Marilynne Robinson</td>\n",
       "      <td>Fiction</td>\n",
       "      <td>http://books.google.com/books/content?id=KQZCP...</td>\n",
       "      <td>A NOVEL THAT READERS and critics have been eag...</td>\n",
       "      <td>2004.0</td>\n",
       "      <td>3.85</td>\n",
       "      <td>247.0</td>\n",
       "      <td>361.0</td>\n",
       "      <td>Gilead</td>\n",
       "      <td>9780002005883: A NOVEL THAT READERS and critic...</td>\n",
       "    </tr>\n",
       "    <tr>\n",
       "      <th>1</th>\n",
       "      <td>9780002261982</td>\n",
       "      <td>Spider's Web</td>\n",
       "      <td>Charles Osborne;Agatha Christie</td>\n",
       "      <td>Detective and mystery stories</td>\n",
       "      <td>http://books.google.com/books/content?id=gA5GP...</td>\n",
       "      <td>A new 'Christie for Christmas' -- a full-lengt...</td>\n",
       "      <td>2000.0</td>\n",
       "      <td>3.83</td>\n",
       "      <td>241.0</td>\n",
       "      <td>5164.0</td>\n",
       "      <td>Spider's Web: A Novel</td>\n",
       "      <td>9780002261982: A new 'Christie for Christmas' ...</td>\n",
       "    </tr>\n",
       "    <tr>\n",
       "      <th>3</th>\n",
       "      <td>9780006178736</td>\n",
       "      <td>Rage of angels</td>\n",
       "      <td>Sidney Sheldon</td>\n",
       "      <td>Fiction</td>\n",
       "      <td>http://books.google.com/books/content?id=FKo2T...</td>\n",
       "      <td>A memorable, mesmerizing heroine Jennifer -- b...</td>\n",
       "      <td>1993.0</td>\n",
       "      <td>3.93</td>\n",
       "      <td>512.0</td>\n",
       "      <td>29532.0</td>\n",
       "      <td>Rage of angels</td>\n",
       "      <td>9780006178736: A memorable, mesmerizing heroin...</td>\n",
       "    </tr>\n",
       "  </tbody>\n",
       "</table>\n",
       "</div>"
      ],
      "text/plain": [
       "          isbn13           title                          authors  \\\n",
       "0  9780002005883          Gilead               Marilynne Robinson   \n",
       "1  9780002261982    Spider's Web  Charles Osborne;Agatha Christie   \n",
       "3  9780006178736  Rage of angels                   Sidney Sheldon   \n",
       "\n",
       "                      categories  \\\n",
       "0                        Fiction   \n",
       "1  Detective and mystery stories   \n",
       "3                        Fiction   \n",
       "\n",
       "                                           thumbnail  \\\n",
       "0  http://books.google.com/books/content?id=KQZCP...   \n",
       "1  http://books.google.com/books/content?id=gA5GP...   \n",
       "3  http://books.google.com/books/content?id=FKo2T...   \n",
       "\n",
       "                                         description  published_year  \\\n",
       "0  A NOVEL THAT READERS and critics have been eag...          2004.0   \n",
       "1  A new 'Christie for Christmas' -- a full-lengt...          2000.0   \n",
       "3  A memorable, mesmerizing heroine Jennifer -- b...          1993.0   \n",
       "\n",
       "   average_rating  num_pages  ratings_count         title_subtitle  \\\n",
       "0            3.85      247.0          361.0                 Gilead   \n",
       "1            3.83      241.0         5164.0  Spider's Web: A Novel   \n",
       "3            3.93      512.0        29532.0         Rage of angels   \n",
       "\n",
       "                                  tagged_description  \n",
       "0  9780002005883: A NOVEL THAT READERS and critic...  \n",
       "1  9780002261982: A new 'Christie for Christmas' ...  \n",
       "3  9780006178736: A memorable, mesmerizing heroin...  "
      ]
     },
     "execution_count": 36,
     "metadata": {},
     "output_type": "execute_result"
    }
   ],
   "source": [
    "books_final.head(3)"
   ]
  },
  {
   "cell_type": "code",
   "execution_count": 37,
   "id": "a582db02",
   "metadata": {},
   "outputs": [
    {
     "name": "stdout",
     "output_type": "stream",
     "text": [
      "d:\\My Projects\\Book Recommender\n"
     ]
    }
   ],
   "source": [
    "%cd .."
   ]
  },
  {
   "cell_type": "code",
   "execution_count": null,
   "id": "d773db32",
   "metadata": {},
   "outputs": [],
   "source": [
    "# Create directory to save the final cleaned dataset\n",
    "import os\n",
    "os.makedirs(\"artifacts/semantic_booksdata\")\n",
    "\n",
    "books_final.to_csv(\"artifacts/semantic_booksdata/clean_books_dataset.csv\", sep=\";\", index=False)"
   ]
  },
  {
   "cell_type": "markdown",
   "id": "74873146",
   "metadata": {},
   "source": [
    "## Get Vector Embeddings for Semantic Recommender"
   ]
  },
  {
   "cell_type": "code",
   "execution_count": 43,
   "id": "bae84d2f",
   "metadata": {},
   "outputs": [],
   "source": [
    "from langchain_community.document_loaders import TextLoader\n",
    "from langchain_text_splitters import CharacterTextSplitter\n",
    "from langchain_chroma import Chroma"
   ]
  },
  {
   "cell_type": "code",
   "execution_count": 44,
   "id": "d5a6f2f6",
   "metadata": {},
   "outputs": [
    {
     "data": {
      "text/plain": [
       "pandas.core.series.Series"
      ]
     },
     "execution_count": 44,
     "metadata": {},
     "output_type": "execute_result"
    }
   ],
   "source": [
    "type(books_final[\"tagged_description\"])"
   ]
  },
  {
   "cell_type": "code",
   "execution_count": 45,
   "id": "24ec042b",
   "metadata": {},
   "outputs": [],
   "source": [
    "os.makedirs(\"artifacts/vector_embeddings\")\n",
    "\n",
    "books_final[\"tagged_description\"].to_csv(\"artifacts/vector_embeddings/tagged_description.txt\",\n",
    "                                        sep = \"\\n\", index = False, header = False)"
   ]
  },
  {
   "cell_type": "code",
   "execution_count": 46,
   "id": "dc7e2b8d",
   "metadata": {},
   "outputs": [],
   "source": [
    "raw_docs = TextLoader(\"artifacts/vector_embeddings/tagged_description.txt\").load()"
   ]
  },
  {
   "cell_type": "code",
   "execution_count": null,
   "id": "b81240c2",
   "metadata": {},
   "outputs": [],
   "source": [
    "# Split the documents into chunks\n",
    "text_splitter = CharacterTextSplitter(chunk_size=0, chunk_overlap=0, separator='\\n')\n",
    "docs = text_splitter.split_documents(raw_docs)"
   ]
  },
  {
   "cell_type": "code",
   "execution_count": 48,
   "id": "0eb1dc17",
   "metadata": {},
   "outputs": [
    {
     "data": {
      "text/plain": [
       "Document(metadata={'source': 'artifacts/vector_embeddings/tagged_description.txt'}, page_content=\"9780006280897: Lewis' work on the nature of love divides love into four categories; Affection, Friendship, Eros and Charity. The first three come naturally to humanity. Charity, however, the Gift-love of God, is divine, and without this supernatural love, the natural loves become distorted and even dangerous.\")"
      ]
     },
     "execution_count": 48,
     "metadata": {},
     "output_type": "execute_result"
    }
   ],
   "source": [
    "docs[3]"
   ]
  },
  {
   "cell_type": "code",
   "execution_count": 49,
   "id": "b2ecb9b7",
   "metadata": {},
   "outputs": [],
   "source": [
    "from langchain_google_genai import GoogleGenerativeAIEmbeddings\n",
    "from dotenv import load_dotenv\n",
    "load_dotenv()\n",
    "\n",
    "api_key = os.getenv(\"GOOGLE_API_KEY\")"
   ]
  },
  {
   "cell_type": "code",
   "execution_count": null,
   "id": "5a34e9a7",
   "metadata": {},
   "outputs": [],
   "source": [
    "# Create a vector store using Chroma with Google Generative AI embeddings\n",
    "db_books = Chroma.from_documents(\n",
    "    documents=docs,\n",
    "    embedding=GoogleGenerativeAIEmbeddings(model=\"models/text-embedding-004\", google_api_key=api_key),\n",
    "    persist_directory=\"artifacts/vector_embeddings/books_vectorstore\"\n",
    ")"
   ]
  },
  {
   "cell_type": "code",
   "execution_count": 51,
   "id": "534b9ed2",
   "metadata": {},
   "outputs": [
    {
     "data": {
      "text/plain": [
       "[Document(id='6ad32c8b-8c29-4ade-bdd3-5c07afe834d6', metadata={'source': 'artifacts/vector_embeddings/tagged_description.txt'}, page_content='9780786808069: Children will discover the exciting world of their own backyard in this introduction to familiar animals from cats and dogs to bugs and frogs. The combination of photographs, illustrations, and fun facts make this an accessible and delightful learning experience.'),\n",
       " Document(id='bc1bf8b5-0aac-4739-ad5d-35e8da1586ea', metadata={'source': 'artifacts/vector_embeddings/tagged_description.txt'}, page_content=\"9780786808373: Introducing your baby to birds, cats, dogs, and babies through fine art, illsutration and photographs. These books are a rare opportunity to expose little ones to a range of images on a single subject, from simple child's drawings and abstract art to playful photos. A brief text accompanies each image, introducing baby to some basic -- and sometimes playful -- information on the subjects.\"),\n",
       " Document(id='0fabc5d2-e9b2-49f4-96d9-328a32cded1d', metadata={'source': 'artifacts/vector_embeddings/tagged_description.txt'}, page_content=\"9780786808397: Introduce your baby to birds, cats, dogs, and babies through fine art, illustration, and photographs. These books are a rare opportunity to exopse little ones to a range of images on a single subject, from simple child's drawings and abstract art to playful photos. A brief text accompanies each image, introducing baby to some basic -- and sometimes playful -- information about the subjects.\"),\n",
       " Document(id='83a58484-868f-4a88-b39d-a8e9465e44a2', metadata={'source': 'artifacts/vector_embeddings/tagged_description.txt'}, page_content=\"9780786808380: Introduce your babies to birds, cats, dogs, and babies through fine art, illustration, and photographs. These books are a rare opportunity to expose little ones to a range of images on a single subject, from simple child's drawings and abstract art to playful photos. A brief text accompanies each image, introducing the baby to some basic -- and sometimes playful -- information about the subjects.\"),\n",
       " Document(id='a71e0613-de05-4e65-98c8-a2e6dfdd1e08', metadata={'source': 'artifacts/vector_embeddings/tagged_description.txt'}, page_content=\"9780689861130: Children will love joining in and imitating the animal noises and sounds in this big, bold board book format, illustrated with Sandra Boynton's seriously silly signature animals.\")]"
      ]
     },
     "execution_count": 51,
     "metadata": {},
     "output_type": "execute_result"
    }
   ],
   "source": [
    "query = \"a book to teach children about animals\"\n",
    "results = db_books.similarity_search(query, k=5)\n",
    "results"
   ]
  },
  {
   "cell_type": "code",
   "execution_count": 52,
   "id": "ba8f6f95",
   "metadata": {},
   "outputs": [
    {
     "data": {
      "text/html": [
       "<div>\n",
       "<style scoped>\n",
       "    .dataframe tbody tr th:only-of-type {\n",
       "        vertical-align: middle;\n",
       "    }\n",
       "\n",
       "    .dataframe tbody tr th {\n",
       "        vertical-align: top;\n",
       "    }\n",
       "\n",
       "    .dataframe thead th {\n",
       "        text-align: right;\n",
       "    }\n",
       "</style>\n",
       "<table border=\"1\" class=\"dataframe\">\n",
       "  <thead>\n",
       "    <tr style=\"text-align: right;\">\n",
       "      <th></th>\n",
       "      <th>isbn13</th>\n",
       "      <th>title</th>\n",
       "      <th>authors</th>\n",
       "      <th>categories</th>\n",
       "      <th>thumbnail</th>\n",
       "      <th>description</th>\n",
       "      <th>published_year</th>\n",
       "      <th>average_rating</th>\n",
       "      <th>num_pages</th>\n",
       "      <th>ratings_count</th>\n",
       "      <th>title_subtitle</th>\n",
       "      <th>tagged_description</th>\n",
       "    </tr>\n",
       "  </thead>\n",
       "  <tbody>\n",
       "    <tr>\n",
       "      <th>1</th>\n",
       "      <td>9780002261982</td>\n",
       "      <td>Spider's Web</td>\n",
       "      <td>Charles Osborne;Agatha Christie</td>\n",
       "      <td>Detective and mystery stories</td>\n",
       "      <td>http://books.google.com/books/content?id=gA5GP...</td>\n",
       "      <td>A new 'Christie for Christmas' -- a full-lengt...</td>\n",
       "      <td>2000.0</td>\n",
       "      <td>3.83</td>\n",
       "      <td>241.0</td>\n",
       "      <td>5164.0</td>\n",
       "      <td>Spider's Web: A Novel</td>\n",
       "      <td>9780002261982: A new 'Christie for Christmas' ...</td>\n",
       "    </tr>\n",
       "  </tbody>\n",
       "</table>\n",
       "</div>"
      ],
      "text/plain": [
       "          isbn13         title                          authors  \\\n",
       "1  9780002261982  Spider's Web  Charles Osborne;Agatha Christie   \n",
       "\n",
       "                      categories  \\\n",
       "1  Detective and mystery stories   \n",
       "\n",
       "                                           thumbnail  \\\n",
       "1  http://books.google.com/books/content?id=gA5GP...   \n",
       "\n",
       "                                         description  published_year  \\\n",
       "1  A new 'Christie for Christmas' -- a full-lengt...          2000.0   \n",
       "\n",
       "   average_rating  num_pages  ratings_count         title_subtitle  \\\n",
       "1            3.83      241.0         5164.0  Spider's Web: A Novel   \n",
       "\n",
       "                                  tagged_description  \n",
       "1  9780002261982: A new 'Christie for Christmas' ...  "
      ]
     },
     "execution_count": 52,
     "metadata": {},
     "output_type": "execute_result"
    }
   ],
   "source": [
    "books_final[books_final[\"isbn13\"] == int(docs[1].page_content.split()[0].replace(':', '').strip())]"
   ]
  },
  {
   "cell_type": "code",
   "execution_count": null,
   "id": "46f9c86f",
   "metadata": {},
   "outputs": [],
   "source": [
    "# Semantic Search Recommender Function\n",
    "def retrieve_books(query: str,\n",
    "                   k: int = 5) -> pd.DataFrame:\n",
    "    \n",
    "    results = db_books.similarity_search(query=query, k=k)\n",
    "    books_list = []\n",
    "    for i in range(0, len(results)):\n",
    "        books_list +=[int(results[i].page_content.split()[0].replace(':', '').strip())]\n",
    "\n",
    "    return books_final[books_final[\"isbn13\"].isin(books_list)]"
   ]
  },
  {
   "cell_type": "markdown",
   "id": "e72720e3",
   "metadata": {},
   "source": [
    "##### Testing"
   ]
  },
  {
   "cell_type": "code",
   "execution_count": 55,
   "id": "f204c3b2",
   "metadata": {},
   "outputs": [
    {
     "data": {
      "text/html": [
       "<div>\n",
       "<style scoped>\n",
       "    .dataframe tbody tr th:only-of-type {\n",
       "        vertical-align: middle;\n",
       "    }\n",
       "\n",
       "    .dataframe tbody tr th {\n",
       "        vertical-align: top;\n",
       "    }\n",
       "\n",
       "    .dataframe thead th {\n",
       "        text-align: right;\n",
       "    }\n",
       "</style>\n",
       "<table border=\"1\" class=\"dataframe\">\n",
       "  <thead>\n",
       "    <tr style=\"text-align: right;\">\n",
       "      <th></th>\n",
       "      <th>isbn13</th>\n",
       "      <th>title</th>\n",
       "      <th>authors</th>\n",
       "      <th>categories</th>\n",
       "      <th>thumbnail</th>\n",
       "      <th>description</th>\n",
       "      <th>published_year</th>\n",
       "      <th>average_rating</th>\n",
       "      <th>num_pages</th>\n",
       "      <th>ratings_count</th>\n",
       "      <th>title_subtitle</th>\n",
       "      <th>tagged_description</th>\n",
       "    </tr>\n",
       "  </thead>\n",
       "  <tbody>\n",
       "    <tr>\n",
       "      <th>3652</th>\n",
       "      <td>9780590100564</td>\n",
       "      <td>Common Ground</td>\n",
       "      <td>Molly Bang</td>\n",
       "      <td>Juvenile Nonfiction</td>\n",
       "      <td>http://books.google.com/books/content?id=LSpkG...</td>\n",
       "      <td>Imagines a village in which there are too many...</td>\n",
       "      <td>1997.0</td>\n",
       "      <td>3.75</td>\n",
       "      <td>40.0</td>\n",
       "      <td>92.0</td>\n",
       "      <td>Common Ground: The Water, Earth, and Air We Share</td>\n",
       "      <td>9780590100564: Imagines a village in which the...</td>\n",
       "    </tr>\n",
       "    <tr>\n",
       "      <th>4861</th>\n",
       "      <td>9780786808069</td>\n",
       "      <td>Baby Einstein: Neighborhood Animals</td>\n",
       "      <td>Marilyn Singer;Julie Aigner-Clark</td>\n",
       "      <td>Juvenile Fiction</td>\n",
       "      <td>http://books.google.com/books/content?id=X9a4P...</td>\n",
       "      <td>Children will discover the exciting world of t...</td>\n",
       "      <td>2001.0</td>\n",
       "      <td>3.89</td>\n",
       "      <td>16.0</td>\n",
       "      <td>180.0</td>\n",
       "      <td>Baby Einstein: Neighborhood Animals</td>\n",
       "      <td>9780786808069: Children will discover the exci...</td>\n",
       "    </tr>\n",
       "    <tr>\n",
       "      <th>4865</th>\n",
       "      <td>9780786808717</td>\n",
       "      <td>Baby Einstein: What Does Violet See? Raindrops...</td>\n",
       "      <td>Julie Aigner-Clark</td>\n",
       "      <td>Juvenile Fiction</td>\n",
       "      <td>http://books.google.com/books/content?id=95IIA...</td>\n",
       "      <td>A very special puddle sets Violet the mouse of...</td>\n",
       "      <td>2002.0</td>\n",
       "      <td>3.25</td>\n",
       "      <td>18.0</td>\n",
       "      <td>16.0</td>\n",
       "      <td>Baby Einstein: What Does Violet See? Raindrops...</td>\n",
       "      <td>9780786808717: A very special puddle sets Viol...</td>\n",
       "    </tr>\n",
       "    <tr>\n",
       "      <th>4879</th>\n",
       "      <td>9780786819119</td>\n",
       "      <td>Baby Einstein: Water, Water Everywhere</td>\n",
       "      <td>Disney Book Group,</td>\n",
       "      <td>Juvenile Fiction</td>\n",
       "      <td>http://books.google.com/books/content?id=tuAdA...</td>\n",
       "      <td>Charming illustrations and playful rhythmic ve...</td>\n",
       "      <td>2003.0</td>\n",
       "      <td>3.70</td>\n",
       "      <td>10.0</td>\n",
       "      <td>77.0</td>\n",
       "      <td>Baby Einstein: Water, Water Everywhere</td>\n",
       "      <td>9780786819119: Charming illustrations and play...</td>\n",
       "    </tr>\n",
       "    <tr>\n",
       "      <th>4927</th>\n",
       "      <td>9780789458209</td>\n",
       "      <td>Tree</td>\n",
       "      <td>David Burnie</td>\n",
       "      <td>Juvenile Nonfiction</td>\n",
       "      <td>http://books.google.com/books/content?id=Qwsqj...</td>\n",
       "      <td>Photographs and text explore the anatomy and l...</td>\n",
       "      <td>2000.0</td>\n",
       "      <td>4.07</td>\n",
       "      <td>64.0</td>\n",
       "      <td>5.0</td>\n",
       "      <td>Tree</td>\n",
       "      <td>9780789458209: Photographs and text explore th...</td>\n",
       "    </tr>\n",
       "  </tbody>\n",
       "</table>\n",
       "</div>"
      ],
      "text/plain": [
       "             isbn13                                              title  \\\n",
       "3652  9780590100564                                      Common Ground   \n",
       "4861  9780786808069                Baby Einstein: Neighborhood Animals   \n",
       "4865  9780786808717  Baby Einstein: What Does Violet See? Raindrops...   \n",
       "4879  9780786819119             Baby Einstein: Water, Water Everywhere   \n",
       "4927  9780789458209                                               Tree   \n",
       "\n",
       "                                authors           categories  \\\n",
       "3652                         Molly Bang  Juvenile Nonfiction   \n",
       "4861  Marilyn Singer;Julie Aigner-Clark     Juvenile Fiction   \n",
       "4865                 Julie Aigner-Clark     Juvenile Fiction   \n",
       "4879                 Disney Book Group,     Juvenile Fiction   \n",
       "4927                       David Burnie  Juvenile Nonfiction   \n",
       "\n",
       "                                              thumbnail  \\\n",
       "3652  http://books.google.com/books/content?id=LSpkG...   \n",
       "4861  http://books.google.com/books/content?id=X9a4P...   \n",
       "4865  http://books.google.com/books/content?id=95IIA...   \n",
       "4879  http://books.google.com/books/content?id=tuAdA...   \n",
       "4927  http://books.google.com/books/content?id=Qwsqj...   \n",
       "\n",
       "                                            description  published_year  \\\n",
       "3652  Imagines a village in which there are too many...          1997.0   \n",
       "4861  Children will discover the exciting world of t...          2001.0   \n",
       "4865  A very special puddle sets Violet the mouse of...          2002.0   \n",
       "4879  Charming illustrations and playful rhythmic ve...          2003.0   \n",
       "4927  Photographs and text explore the anatomy and l...          2000.0   \n",
       "\n",
       "      average_rating  num_pages  ratings_count  \\\n",
       "3652            3.75       40.0           92.0   \n",
       "4861            3.89       16.0          180.0   \n",
       "4865            3.25       18.0           16.0   \n",
       "4879            3.70       10.0           77.0   \n",
       "4927            4.07       64.0            5.0   \n",
       "\n",
       "                                         title_subtitle  \\\n",
       "3652  Common Ground: The Water, Earth, and Air We Share   \n",
       "4861                Baby Einstein: Neighborhood Animals   \n",
       "4865  Baby Einstein: What Does Violet See? Raindrops...   \n",
       "4879             Baby Einstein: Water, Water Everywhere   \n",
       "4927                                               Tree   \n",
       "\n",
       "                                     tagged_description  \n",
       "3652  9780590100564: Imagines a village in which the...  \n",
       "4861  9780786808069: Children will discover the exci...  \n",
       "4865  9780786808717: A very special puddle sets Viol...  \n",
       "4879  9780786819119: Charming illustrations and play...  \n",
       "4927  9780789458209: Photographs and text explore th...  "
      ]
     },
     "execution_count": 55,
     "metadata": {},
     "output_type": "execute_result"
    }
   ],
   "source": [
    "retrieve_books(\"a book to teach children about nature\")"
   ]
  },
  {
   "cell_type": "code",
   "execution_count": 56,
   "id": "998776ec",
   "metadata": {},
   "outputs": [
    {
     "data": {
      "text/html": [
       "<div>\n",
       "<style scoped>\n",
       "    .dataframe tbody tr th:only-of-type {\n",
       "        vertical-align: middle;\n",
       "    }\n",
       "\n",
       "    .dataframe tbody tr th {\n",
       "        vertical-align: top;\n",
       "    }\n",
       "\n",
       "    .dataframe thead th {\n",
       "        text-align: right;\n",
       "    }\n",
       "</style>\n",
       "<table border=\"1\" class=\"dataframe\">\n",
       "  <thead>\n",
       "    <tr style=\"text-align: right;\">\n",
       "      <th></th>\n",
       "      <th>isbn13</th>\n",
       "      <th>title</th>\n",
       "      <th>authors</th>\n",
       "      <th>categories</th>\n",
       "      <th>thumbnail</th>\n",
       "      <th>description</th>\n",
       "      <th>published_year</th>\n",
       "      <th>average_rating</th>\n",
       "      <th>num_pages</th>\n",
       "      <th>ratings_count</th>\n",
       "      <th>title_subtitle</th>\n",
       "      <th>tagged_description</th>\n",
       "    </tr>\n",
       "  </thead>\n",
       "  <tbody>\n",
       "    <tr>\n",
       "      <th>625</th>\n",
       "      <td>9780099910107</td>\n",
       "      <td>A Farewell to Arms</td>\n",
       "      <td>Ernest Hemingway</td>\n",
       "      <td>War</td>\n",
       "      <td>http://books.google.com/books/content?id=m68Lh...</td>\n",
       "      <td>In 1918 Ernest Hemingway went to war, to the '...</td>\n",
       "      <td>1994.0</td>\n",
       "      <td>3.80</td>\n",
       "      <td>293.0</td>\n",
       "      <td>210197.0</td>\n",
       "      <td>A Farewell to Arms</td>\n",
       "      <td>9780099910107: In 1918 Ernest Hemingway went t...</td>\n",
       "    </tr>\n",
       "    <tr>\n",
       "      <th>3101</th>\n",
       "      <td>9780452284982</td>\n",
       "      <td>A Long Short War</td>\n",
       "      <td>Christopher Hitchens</td>\n",
       "      <td>Political Science</td>\n",
       "      <td>http://books.google.com/books/content?id=Oc9la...</td>\n",
       "      <td>Presents an eyewitness account of the 2003 war...</td>\n",
       "      <td>2002.0</td>\n",
       "      <td>3.74</td>\n",
       "      <td>112.0</td>\n",
       "      <td>363.0</td>\n",
       "      <td>A Long Short War: The Postponed Liberation of ...</td>\n",
       "      <td>9780452284982: Presents an eyewitness account ...</td>\n",
       "    </tr>\n",
       "    <tr>\n",
       "      <th>3608</th>\n",
       "      <td>9780571207992</td>\n",
       "      <td>The Wars</td>\n",
       "      <td>Timothy Findley</td>\n",
       "      <td>Fiction</td>\n",
       "      <td>http://books.google.com/books/content?id=AqnDQ...</td>\n",
       "      <td>Robert Ross, a sensitive nineteen-year-old Can...</td>\n",
       "      <td>2001.0</td>\n",
       "      <td>3.87</td>\n",
       "      <td>218.0</td>\n",
       "      <td>6229.0</td>\n",
       "      <td>The Wars</td>\n",
       "      <td>9780571207992: Robert Ross, a sensitive ninete...</td>\n",
       "    </tr>\n",
       "    <tr>\n",
       "      <th>4011</th>\n",
       "      <td>9780679735250</td>\n",
       "      <td>Dispatches</td>\n",
       "      <td>Michael Herr</td>\n",
       "      <td>History</td>\n",
       "      <td>http://books.google.com/books/content?id=5Trkp...</td>\n",
       "      <td>A documentation of the day-to-day realities of...</td>\n",
       "      <td>1991.0</td>\n",
       "      <td>4.23</td>\n",
       "      <td>260.0</td>\n",
       "      <td>12590.0</td>\n",
       "      <td>Dispatches</td>\n",
       "      <td>9780679735250: A documentation of the day-to-d...</td>\n",
       "    </tr>\n",
       "    <tr>\n",
       "      <th>4111</th>\n",
       "      <td>9780684844077</td>\n",
       "      <td>Soul of the Sword</td>\n",
       "      <td>Robert L. O'Connell</td>\n",
       "      <td>Technology &amp; Engineering</td>\n",
       "      <td>http://books.google.com/books/content?id=eoEag...</td>\n",
       "      <td>A sweeping illustrated history of war and the ...</td>\n",
       "      <td>2002.0</td>\n",
       "      <td>4.08</td>\n",
       "      <td>400.0</td>\n",
       "      <td>36.0</td>\n",
       "      <td>Soul of the Sword: An Illustrated History of W...</td>\n",
       "      <td>9780684844077: A sweeping illustrated history ...</td>\n",
       "    </tr>\n",
       "  </tbody>\n",
       "</table>\n",
       "</div>"
      ],
      "text/plain": [
       "             isbn13               title               authors  \\\n",
       "625   9780099910107  A Farewell to Arms      Ernest Hemingway   \n",
       "3101  9780452284982    A Long Short War  Christopher Hitchens   \n",
       "3608  9780571207992            The Wars       Timothy Findley   \n",
       "4011  9780679735250          Dispatches          Michael Herr   \n",
       "4111  9780684844077   Soul of the Sword   Robert L. O'Connell   \n",
       "\n",
       "                    categories  \\\n",
       "625                        War   \n",
       "3101         Political Science   \n",
       "3608                   Fiction   \n",
       "4011                   History   \n",
       "4111  Technology & Engineering   \n",
       "\n",
       "                                              thumbnail  \\\n",
       "625   http://books.google.com/books/content?id=m68Lh...   \n",
       "3101  http://books.google.com/books/content?id=Oc9la...   \n",
       "3608  http://books.google.com/books/content?id=AqnDQ...   \n",
       "4011  http://books.google.com/books/content?id=5Trkp...   \n",
       "4111  http://books.google.com/books/content?id=eoEag...   \n",
       "\n",
       "                                            description  published_year  \\\n",
       "625   In 1918 Ernest Hemingway went to war, to the '...          1994.0   \n",
       "3101  Presents an eyewitness account of the 2003 war...          2002.0   \n",
       "3608  Robert Ross, a sensitive nineteen-year-old Can...          2001.0   \n",
       "4011  A documentation of the day-to-day realities of...          1991.0   \n",
       "4111  A sweeping illustrated history of war and the ...          2002.0   \n",
       "\n",
       "      average_rating  num_pages  ratings_count  \\\n",
       "625             3.80      293.0       210197.0   \n",
       "3101            3.74      112.0          363.0   \n",
       "3608            3.87      218.0         6229.0   \n",
       "4011            4.23      260.0        12590.0   \n",
       "4111            4.08      400.0           36.0   \n",
       "\n",
       "                                         title_subtitle  \\\n",
       "625                                  A Farewell to Arms   \n",
       "3101  A Long Short War: The Postponed Liberation of ...   \n",
       "3608                                           The Wars   \n",
       "4011                                         Dispatches   \n",
       "4111  Soul of the Sword: An Illustrated History of W...   \n",
       "\n",
       "                                     tagged_description  \n",
       "625   9780099910107: In 1918 Ernest Hemingway went t...  \n",
       "3101  9780452284982: Presents an eyewitness account ...  \n",
       "3608  9780571207992: Robert Ross, a sensitive ninete...  \n",
       "4011  9780679735250: A documentation of the day-to-d...  \n",
       "4111  9780684844077: A sweeping illustrated history ...  "
      ]
     },
     "execution_count": 56,
     "metadata": {},
     "output_type": "execute_result"
    }
   ],
   "source": [
    "retrieve_books(\"a book about war\")"
   ]
  }
 ],
 "metadata": {
  "kernelspec": {
   "display_name": "Python 3",
   "language": "python",
   "name": "python3"
  },
  "language_info": {
   "codemirror_mode": {
    "name": "ipython",
    "version": 3
   },
   "file_extension": ".py",
   "mimetype": "text/x-python",
   "name": "python",
   "nbconvert_exporter": "python",
   "pygments_lexer": "ipython3",
   "version": "3.11.5"
  }
 },
 "nbformat": 4,
 "nbformat_minor": 5
}
